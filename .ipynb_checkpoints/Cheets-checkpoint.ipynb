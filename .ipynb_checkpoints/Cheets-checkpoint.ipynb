{
 "cells": [
  {
   "cell_type": "code",
   "execution_count": 1,
   "metadata": {
    "collapsed": true
   },
   "outputs": [],
   "source": [
    "#How to initialise List of List:\n",
    "\n",
    "length=5\n",
    "allCharacter=length*[0]\n",
    "for i in range(length):\n",
    "\tallCharacter[i]=length*[0]\n"
   ]
  },
  {
   "cell_type": "code",
   "execution_count": 16,
   "metadata": {
    "collapsed": false
   },
   "outputs": [
    {
     "name": "stdout",
     "output_type": "stream",
     "text": [
      "[0, 0, 0, 0, 0, 0, 0, 1, 4, 2, 7, 6, 4, 9, 2, 3, 1, 5, 4, 7, 12, 6, 6, 4, 9, 7, 2, 7, 12, 5, 88, 4, 6, 2, 4, 14, 16, 14, 19, 17, 12, 17, 16, 6, 40, 9, 70, 20, 7, 18, 16, 14, 91, 7, 21, 17]\n"
     ]
    },
    {
     "data": {
      "text/plain": [
       "[0,\n",
       " 0,\n",
       " 0,\n",
       " 0,\n",
       " 0,\n",
       " 0,\n",
       " 0,\n",
       " 1,\n",
       " 4,\n",
       " 2,\n",
       " 7,\n",
       " 6,\n",
       " 4,\n",
       " 9,\n",
       " 2,\n",
       " 3,\n",
       " 1,\n",
       " 5,\n",
       " 4,\n",
       " 7,\n",
       " 12,\n",
       " 6,\n",
       " 6,\n",
       " 4,\n",
       " 9,\n",
       " 7,\n",
       " 2,\n",
       " 7,\n",
       " 12,\n",
       " 5,\n",
       " 88,\n",
       " 4,\n",
       " 6,\n",
       " 2,\n",
       " 4,\n",
       " 14,\n",
       " 16,\n",
       " 14,\n",
       " 19,\n",
       " 17,\n",
       " 12,\n",
       " 17,\n",
       " 16,\n",
       " 6,\n",
       " 40,\n",
       " 9,\n",
       " 70,\n",
       " 20,\n",
       " 7,\n",
       " 18,\n",
       " 16,\n",
       " 14,\n",
       " 91,\n",
       " 7,\n",
       " 21,\n",
       " 17]"
      ]
     },
     "execution_count": 16,
     "metadata": {},
     "output_type": "execute_result"
    }
   ],
   "source": [
    "#How to read a file line by line and save in a list and design print function for List\n",
    "\n",
    "fileName=\"large_matrix.txt\"\n",
    "length=7;\n",
    "def readMatrix(fileName,length,printIt):\n",
    "    allCharacter=length*[0];\n",
    "    file=open(fileName,'r')\n",
    "    for line in file:\n",
    "        line=line.split();\n",
    "        if len(line)>0:\n",
    "            for i in range(length):\n",
    "                allCharacter.append(int(line[i]));\n",
    "    file.close()\n",
    "    if printIt:\n",
    "        print(allCharacter)\n",
    "    return allCharacter\n",
    "\n",
    "readMatrix(fileName,length,True)"
   ]
  },
  {
   "cell_type": "code",
   "execution_count": 21,
   "metadata": {
    "collapsed": false
   },
   "outputs": [
    {
     "name": "stdout",
     "output_type": "stream",
     "text": [
      "[[1, 4, 2, 7, 6, 4, 9], [2, 3, 1, 5, 4, 7, 12], [6, 6, 4, 9, 7, 2, 7], [12, 5, 88, 4, 6, 2, 4], [14, 16, 14, 19, 17, 12, 17], [16, 6, 40, 9, 70, 20, 7], [18, 16, 14, 91, 7, 21, 17]]\n"
     ]
    },
    {
     "data": {
      "text/plain": [
       "[[1, 4, 2, 7, 6, 4, 9],\n",
       " [2, 3, 1, 5, 4, 7, 12],\n",
       " [6, 6, 4, 9, 7, 2, 7],\n",
       " [12, 5, 88, 4, 6, 2, 4],\n",
       " [14, 16, 14, 19, 17, 12, 17],\n",
       " [16, 6, 40, 9, 70, 20, 7],\n",
       " [18, 16, 14, 91, 7, 21, 17]]"
      ]
     },
     "execution_count": 21,
     "metadata": {},
     "output_type": "execute_result"
    }
   ],
   "source": [
    "#How to read a file and save using list of list \n",
    "\n",
    "fileName=\"large_matrix.txt\"\n",
    "length=7;\n",
    "def readMatrixUsingListOfList(fileName,length,printIt):\n",
    "    file=open(fileName,'r')\n",
    "    allCharacter=length*[0]\n",
    "    for i in range(length):\n",
    "        allCharacter[i]=length*[0]\n",
    "\n",
    "    lineCount=0\n",
    "    for line in file:\n",
    "        line=line.split();\n",
    "        #print(line)\n",
    "        if len(line)>0:\n",
    "            for i in range(length):\n",
    "                if lineCount<length:\n",
    "                    allCharacter[lineCount][i]=int(line[i])\n",
    "            lineCount=lineCount+1\n",
    "    file.close()\n",
    "    if printIt:\n",
    "        print(allCharacter)\n",
    "    return allCharacter\n",
    "\n",
    "readMatrixUsingListOfList(fileName,length,True)\n",
    "\n"
   ]
  },
  {
   "cell_type": "code",
   "execution_count": 22,
   "metadata": {
    "collapsed": false
   },
   "outputs": [
    {
     "name": "stdout",
     "output_type": "stream",
     "text": [
      "[[1, 4, 2, 7, 6, 4, 9], [2, 3, 1, 5, 4, 7, 12], [6, 6, 4, 9, 7, 2, 7], [12, 5, 88, 4, 6, 2, 4], [14, 16, 14, 19, 17, 12, 17], [16, 6, 40, 9, 70, 20, 7], [18, 16, 14, 91, 7, 21, 17]]\n",
      "1 4 2 7 6 4 9 \n",
      "\n",
      "2 3 1 5 4 7 12 \n",
      "\n",
      "6 6 4 9 7 2 7 \n",
      "\n",
      "12 5 88 4 6 2 4 \n",
      "\n",
      "14 16 14 19 17 12 17 \n",
      "\n",
      "16 6 40 9 70 20 7 \n",
      "\n",
      "18 16 14 91 7 21 17 \n",
      "\n"
     ]
    }
   ],
   "source": [
    "#How to print a list of list \n",
    "fileName=\"large_matrix.txt\"\n",
    "length=7;\n",
    "def printMatrix(aMatrix):\n",
    "    for i in range(len(aMatrix)):\n",
    "        out=\"\"\n",
    "        for j in range(len(aMatrix[i])):\n",
    "        \tout= out+ str(aMatrix[i][j]) + \" \"\n",
    "        out=out+ \"\\n\"\n",
    "        print(out)\n",
    "        \n",
    "printMatrix(readMatrixUsingListOfList(fileName,length,True))"
   ]
  },
  {
   "cell_type": "code",
   "execution_count": null,
   "metadata": {
    "collapsed": true
   },
   "outputs": [],
   "source": []
  },
  {
   "cell_type": "code",
   "execution_count": null,
   "metadata": {
    "collapsed": true
   },
   "outputs": [],
   "source": []
  }
 ],
 "metadata": {
  "kernelspec": {
   "display_name": "Python 3",
   "language": "python",
   "name": "python3"
  },
  "language_info": {
   "codemirror_mode": {
    "name": "ipython",
    "version": 3
   },
   "file_extension": ".py",
   "mimetype": "text/x-python",
   "name": "python",
   "nbconvert_exporter": "python",
   "pygments_lexer": "ipython3",
   "version": "3.6.0"
  }
 },
 "nbformat": 4,
 "nbformat_minor": 2
}
